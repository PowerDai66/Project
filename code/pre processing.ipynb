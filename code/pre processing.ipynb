{
 "cells": [
  {
   "cell_type": "code",
   "execution_count": 1,
   "metadata": {},
   "outputs": [],
   "source": [
    "import tweepy\n",
    "import pandas as pd\n",
    "import numpy as np\n",
    "import csv\n",
    "import re\n",
    "pd.set_option(\"display.max_colwidth\", None)\n",
    "from collections import Counter\n",
    "import scipy.sparse as sp\n",
    "from nltk.corpus import stopwords\n",
    "stopwords = stopwords.words('english')\n",
    "from nltk.tokenize import word_tokenize\n",
    "from sklearn.feature_extraction.text import TfidfVectorizer\n",
    "from nltk.stem import PorterStemmer\n",
    "from nltk.stem import WordNetLemmatizer\n",
    "import itertools"
   ]
  },
  {
   "cell_type": "markdown",
   "metadata": {},
   "source": [
    "pre-processing"
   ]
  },
  {
   "cell_type": "code",
   "execution_count": 2,
   "metadata": {},
   "outputs": [],
   "source": [
    "path=r'D:\\华威Warwick\\class\\project\\tweets'   #load data\n",
    "dem1 = pd.read_csv(path+'\\dems_tweets.csv')\n",
    "dem1 = dem1[['user_id','Time','Text']]\n",
    "dem2 = pd.read_csv(path+'\\dems_tweets_2.csv')\n",
    "dem2 = dem2[['user_id','Time','Text']]\n",
    "dems = pd.concat([dem1,dem2])\n",
    "dems = dems.reset_index()\n",
    "dems = dems[['user_id','Time','Text']]\n",
    "\n",
    "rep1 = pd.read_csv(path+'\\\\reps_tweets.csv')\n",
    "rep1 = rep1[['user_id','Time','Text']]\n",
    "rep2 = pd.read_csv(path+'\\\\reps_tweets_2.csv')\n",
    "rep2 = rep2[['user_id','Time','Text']]\n",
    "reps = pd.concat([rep1,rep2])\n",
    "reps = reps.reset_index()\n",
    "reps = reps[['user_id','Time','Text']]"
   ]
  },
  {
   "cell_type": "code",
   "execution_count": 3,
   "metadata": {},
   "outputs": [
    {
     "name": "stdout",
     "output_type": "stream",
     "text": [
      "1314749\n",
      "1456621\n"
     ]
    }
   ],
   "source": [
    "print(len(reps))\n",
    "print(len(dems))"
   ]
  },
  {
   "cell_type": "code",
   "execution_count": 3,
   "metadata": {},
   "outputs": [],
   "source": [
    "reps = reps[reps[\"Time\"] > '2020/9/26']  #filter date\n",
    "reps = reps[reps[\"Time\"] < '2021/7/26']\n",
    "\n",
    "dems = dems[dems[\"Time\"] > '2020/9/26']\n",
    "dems = dems[dems[\"Time\"] < '2021/7/26']\n"
   ]
  },
  {
   "cell_type": "code",
   "execution_count": 4,
   "metadata": {},
   "outputs": [
    {
     "name": "stderr",
     "output_type": "stream",
     "text": [
      "<ipython-input-4-09800e05c008>:7: FutureWarning: The default value of regex will change from True to False in a future version.\n",
      "  dems['Text'] = dems['Text'].str.replace(r'\\\\xe2\\\\x80\\\\x99', '\\'') #replace some unicodes\n",
      "<ipython-input-4-09800e05c008>:8: FutureWarning: The default value of regex will change from True to False in a future version.\n",
      "  dems['Text'] = dems['Text'].str.replace(r'\\\\xe2\\\\x80\\\\x9c', '\\\"')\n",
      "<ipython-input-4-09800e05c008>:9: FutureWarning: The default value of regex will change from True to False in a future version.\n",
      "  dems['Text'] = dems['Text'].str.replace(r'\\\\xe2\\\\x80\\\\x9d', '\\\"')\n",
      "<ipython-input-4-09800e05c008>:10: FutureWarning: The default value of regex will change from True to False in a future version.\n",
      "  reps['Text'] = reps['Text'].str.replace(r'\\\\xe2\\\\x80\\\\x99', '\\'')\n",
      "<ipython-input-4-09800e05c008>:11: FutureWarning: The default value of regex will change from True to False in a future version.\n",
      "  reps['Text'] = reps['Text'].str.replace(r'\\\\xe2\\\\x80\\\\x9c', '\\\"')\n",
      "<ipython-input-4-09800e05c008>:12: FutureWarning: The default value of regex will change from True to False in a future version.\n",
      "  reps['Text'] = reps['Text'].str.replace(r'\\\\xe2\\\\x80\\\\x9d', '\\\"')\n",
      "<ipython-input-4-09800e05c008>:14: FutureWarning: The default value of regex will change from True to False in a future version.\n",
      "  dems['Text'] = dems['Text'].str.replace(r'\\\\x[A-Za-z0-9./]+', '')\n",
      "<ipython-input-4-09800e05c008>:15: FutureWarning: The default value of regex will change from True to False in a future version.\n",
      "  reps['Text'] = reps['Text'].str.replace(r'\\\\x[A-Za-z0-9./]+', '')#remove all other unicodes\n",
      "<ipython-input-4-09800e05c008>:17: FutureWarning: The default value of regex will change from True to False in a future version.\n",
      "  dems['Text'] = dems['Text'].str.replace(r'\\\\n', ' ')\n",
      "<ipython-input-4-09800e05c008>:18: FutureWarning: The default value of regex will change from True to False in a future version.\n",
      "  reps['Text'] = reps['Text'].str.replace(r'\\\\n', ' ')\n"
     ]
    }
   ],
   "source": [
    "# first preprecessing\n",
    "dems['Text'] = dems['Text'].apply(lambda x:x[2:])  #edit raw text\n",
    "reps['Text'] = reps['Text'].apply(lambda x:x[2:])\n",
    "dems['Text'] = dems['Text'].apply(lambda x:x[:-1])\n",
    "reps['Text'] = reps['Text'].apply(lambda x:x[:-1])\n",
    "\n",
    "dems['Text'] = dems['Text'].str.replace(r'\\\\xe2\\\\x80\\\\x99', '\\'') #replace some unicodes\n",
    "dems['Text'] = dems['Text'].str.replace(r'\\\\xe2\\\\x80\\\\x9c', '\\\"')\n",
    "dems['Text'] = dems['Text'].str.replace(r'\\\\xe2\\\\x80\\\\x9d', '\\\"')\n",
    "reps['Text'] = reps['Text'].str.replace(r'\\\\xe2\\\\x80\\\\x99', '\\'')\n",
    "reps['Text'] = reps['Text'].str.replace(r'\\\\xe2\\\\x80\\\\x9c', '\\\"')\n",
    "reps['Text'] = reps['Text'].str.replace(r'\\\\xe2\\\\x80\\\\x9d', '\\\"')\n",
    "\n",
    "dems['Text'] = dems['Text'].str.replace(r'\\\\x[A-Za-z0-9./]+', '')\n",
    "reps['Text'] = reps['Text'].str.replace(r'\\\\x[A-Za-z0-9./]+', '')#remove all other unicodes\n",
    "\n",
    "dems['Text'] = dems['Text'].str.replace(r'\\\\n', ' ')\n",
    "reps['Text'] = reps['Text'].str.replace(r'\\\\n', ' ')"
   ]
  },
  {
   "cell_type": "code",
   "execution_count": 5,
   "metadata": {},
   "outputs": [],
   "source": [
    "#regular expressions\n",
    "dems['Text'] = dems.Text.str.lower()\n",
    "dems['Text'] = dems.Text.apply(lambda x: re.sub(r'\\b(lol)\\b', 'happyface', x))\n",
    "dems['Text'] = dems.Text.apply(lambda x: re.sub(r'https?:\\/\\/\\S+', ' ', x))\n",
    "dems['Text'] = dems.Text.apply(lambda x: re.sub(r\"www\\.[a-z]?\\.?(com)+|[a-z]+\\.(com)\", ' ', x))\n",
    "dems['Text']= dems.Text.apply(lambda x: re.sub(\"@[A-Za-z0-9_]+\", ' ', x))\n",
    "dems['Text']= dems.Text.apply(lambda x: re.sub(\"#[A-Za-z0-9_]+\", ' ', x))\n",
    "dems['Text'] = dems.Text.apply(lambda x: re.sub(r\"\\b[0-9]+\\b\", ' ', x))\n",
    "dems['Text'] = dems.Text.apply(lambda x: re.sub(r\"[^A-Za-z0-9 ]\",'', x))\n",
    "dems['Text']= dems.Text.apply(lambda x: re.sub(r\"[^a-z\\s\\(\\-:\\)\\\\\\/\\];='#]\", ' ', x))\n",
    "dems['Text'] = dems.Text.apply(lambda x: re.sub(r\"\\b[a-z0-9]\\b\",' ', x))\n",
    "dems['Text'] = dems.Text.apply(lambda x: re.sub(' +', ' ', x))\n",
    "\n",
    "reps['Text'] = reps.Text.str.lower()\n",
    "reps['Text'] = reps.Text.apply(lambda x: re.sub(r'\\b(lol)\\b', 'happyface', x))\n",
    "reps['Text'] = reps.Text.apply(lambda x: re.sub(r'https?:\\/\\/\\S+', ' ', x))\n",
    "reps['Text'] = reps.Text.apply(lambda x: re.sub(r\"www\\.[a-z]?\\.?(com)+|[a-z]+\\.(com)\", ' ', x))\n",
    "reps['Text']= reps.Text.apply(lambda x: re.sub(\"@[A-Za-z0-9_]+\", ' ', x))\n",
    "reps['Text']= reps.Text.apply(lambda x: re.sub(\"#[A-Za-z0-9_]+\", ' ', x))\n",
    "reps['Text'] = reps.Text.apply(lambda x: re.sub(r\"\\b[0-9]+\\b\", ' ', x))\n",
    "reps['Text'] = reps.Text.apply(lambda x: re.sub(r\"[^A-Za-z0-9 ]\",'', x))\n",
    "reps['Text']= reps.Text.apply(lambda x: re.sub(r\"[^a-z\\s\\(\\-:\\)\\\\\\/\\];='#]\", ' ', x))\n",
    "reps['Text'] = reps.Text.apply(lambda x: re.sub(r\"\\b[a-z0-9]\\b\",' ', x))\n",
    "reps['Text'] = reps.Text.apply(lambda x: re.sub(' +', ' ', x))\n"
   ]
  },
  {
   "cell_type": "code",
   "execution_count": 6,
   "metadata": {},
   "outputs": [],
   "source": [
    "reps = reps[reps[\"Text\"] != ' '];reps = reps[reps[\"Text\"] != '']\n",
    "dems = dems[dems[\"Text\"] != ' '];dems = dems[dems[\"Text\"] != '']\n",
    "reps.index = range(len(reps));dems.index = range(len(dems))"
   ]
  },
  {
   "cell_type": "code",
   "execution_count": 84,
   "metadata": {},
   "outputs": [],
   "source": [
    "def preprocess_tweet_text(tweet):\n",
    "    tweet_tokens = word_tokenize(tweet)\n",
    "    filtered_words = [w for w in tweet_tokens if not w in stopwords]\n",
    "    ps = PorterStemmer()\n",
    "    stemmed_words = [ps.stem(w) for w in filtered_words]\n",
    "    lemmatizer = WordNetLemmatizer()\n",
    "    lemma_words = [lemmatizer.lemmatize(w, pos='a') for w in stemmed_words]\n",
    "    return lemma_words\n",
    "reps['Text'] = reps.Text.apply(lambda x:preprocess_tweet_text(x))\n",
    "dems['Text'] = dems.Text.apply(lambda x:preprocess_tweet_text(x))"
   ]
  },
  {
   "cell_type": "code",
   "execution_count": 92,
   "metadata": {},
   "outputs": [
    {
     "data": {
      "text/plain": [
       "[('trump', 178074),\n",
       " ('peopl', 111280),\n",
       " ('vote', 111247),\n",
       " ('amp', 107581),\n",
       " ('get', 95714),\n",
       " ('us', 90579),\n",
       " ('one', 77918),\n",
       " ('like', 76685),\n",
       " ('republican', 74546),\n",
       " ('right', 72205),\n",
       " ('need', 70817),\n",
       " ('presid', 69854),\n",
       " ('say', 66718),\n",
       " ('go', 65382),\n",
       " ('american', 64747)]"
      ]
     },
     "execution_count": 92,
     "metadata": {},
     "output_type": "execute_result"
    }
   ],
   "source": [
    "# List of all words across tweets\n",
    "all_tokens = list(itertools.chain(*dems['Text']))\n",
    "# Create counter\n",
    "token_counts = Counter(all_tokens)\n",
    "token_counts.most_common(15)\n"
   ]
  },
  {
   "cell_type": "markdown",
   "metadata": {},
   "source": [
    "topic mining done in Google Colab"
   ]
  },
  {
   "cell_type": "code",
   "execution_count": 149,
   "metadata": {},
   "outputs": [],
   "source": [
    "#save topic dictionary from Google Colab \n",
    "np.save(r'D:\\华威Warwick\\class\\project\\topic\\reps_topics.npy', reps_topics) \n",
    "#Load\n",
    "reps_topics = np.load(r'D:\\华威Warwick\\class\\project\\topic\\reps_topics.npy',allow_pickle=True).item()\n"
   ]
  },
  {
   "cell_type": "code",
   "execution_count": 146,
   "metadata": {},
   "outputs": [],
   "source": [
    "import pickle #save topic frequency\n",
    "with open(r'D:\\华威Warwick\\class\\project\\topic\\reps_topics_freq', 'wb') as fp:\n",
    "    pickle.dump(reps_topics_freq, fp)\n",
    "with open (r'D:\\华威Warwick\\class\\project\\topic\\reps_topics_freq', 'rb') as fp:\n",
    "    reps_topics_freq = pickle.load(fp)"
   ]
  },
  {
   "cell_type": "code",
   "execution_count": 156,
   "metadata": {},
   "outputs": [],
   "source": [
    "import pickle #save topic frequency\n",
    "#with open(r'D:\\华威Warwick\\class\\project\\topic\\dems_topics_freq', 'wb') as fp:\n",
    "#    pickle.dump(dems_topics_freq, fp)\n",
    "with open (r'D:\\华威Warwick\\class\\project\\topic\\dems_topics_freq', 'rb') as fp:\n",
    "    dems_topics_freq = pickle.load(fp)"
   ]
  },
  {
   "cell_type": "code",
   "execution_count": 154,
   "metadata": {},
   "outputs": [],
   "source": [
    "#save topic dictionary from Google Colab \n",
    "np.save(r'D:\\华威Warwick\\class\\project\\topic\\dems_topics.npy', dems_topics) \n",
    "#Load\n",
    "dems_topics = np.load(r'D:\\华威Warwick\\class\\project\\topic\\dems_topics.npy',allow_pickle=True).item()"
   ]
  },
  {
   "cell_type": "markdown",
   "metadata": {},
   "source": [
    " examples after topic modeling"
   ]
  },
  {
   "cell_type": "code",
   "execution_count": 153,
   "metadata": {},
   "outputs": [
    {
     "data": {
      "text/plain": [
       "[('china', 0.1660926476014176),\n",
       " ('chinese', 0.08281270387423889),\n",
       " ('hong', 0.045425947238850115),\n",
       " ('hong kong', 0.04211122871988331),\n",
       " ('kong', 0.04140854079393119),\n",
       " ('chinas', 0.030206990181393042),\n",
       " ('tariffs', 0.028949925565671105),\n",
       " ('korea', 0.024627890473090917),\n",
       " ('north korea', 0.02213193145417531),\n",
       " ('xi', 0.014078272764133185),\n",
       " ('taiwan', 0.011349444418536504),\n",
       " ('human rights', 0.011016273214463506),\n",
       " ('government', 0.01076760955393996),\n",
       " ('war', 0.00827780366914058),\n",
       " ('qatar', 0.0082094720975641),\n",
       " ('allies', 0.008192164607000353),\n",
       " ('doesnt pay', 0.008061763786086909),\n",
       " ('russia', 0.00783571512715824),\n",
       " ('genocide', 0.007713403216593489),\n",
       " ('camps', 0.007572924209583971)]"
      ]
     },
     "execution_count": 153,
     "metadata": {},
     "output_type": "execute_result"
    }
   ],
   "source": [
    "dems_topics[97]"
   ]
  },
  {
   "cell_type": "code",
   "execution_count": 83,
   "metadata": {},
   "outputs": [
    {
     "data": {
      "text/plain": [
       "[('china', 0.07941592246338233),\n",
       " ('chinese', 0.04705733900178468),\n",
       " ('communist', 0.023257997849948794),\n",
       " ('chinas', 0.021494693488372855),\n",
       " ('chinese communist', 0.019696482923150672),\n",
       " ('communist party', 0.018439374273802007),\n",
       " ('hong', 0.014872816836239835),\n",
       " ('taiwan', 0.01415692305496534),\n",
       " ('beijing', 0.01383700143373067),\n",
       " ('hong kong', 0.012785234755498517),\n",
       " ('kong', 0.01263927907945536),\n",
       " ('communist china', 0.010656882321142636),\n",
       " ('xi', 0.009754664582997738),\n",
       " ('virus', 0.009257583480505328),\n",
       " ('human rights', 0.009021979530270672),\n",
       " ('chinese spy', 0.008995125774581877),\n",
       " ('china virus', 0.006516586173291237),\n",
       " ('rights', 0.00634682742651267),\n",
       " ('chinese government', 0.006133870036125793),\n",
       " ('beijing biden', 0.0055071164538115615)]"
      ]
     },
     "execution_count": 83,
     "metadata": {},
     "output_type": "execute_result"
    }
   ],
   "source": [
    "reps_topics[7]"
   ]
  }
 ],
 "metadata": {
  "kernelspec": {
   "display_name": "Python 3",
   "language": "python",
   "name": "python3"
  },
  "language_info": {
   "codemirror_mode": {
    "name": "ipython",
    "version": 3
   },
   "file_extension": ".py",
   "mimetype": "text/x-python",
   "name": "python",
   "nbconvert_exporter": "python",
   "pygments_lexer": "ipython3",
   "version": "3.8.3"
  }
 },
 "nbformat": 4,
 "nbformat_minor": 4
}
